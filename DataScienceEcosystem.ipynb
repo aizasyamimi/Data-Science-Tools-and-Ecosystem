{
 "cells": [
  {
   "cell_type": "markdown",
   "id": "b201c209-6348-4868-9fa5-94998de91510",
   "metadata": {},
   "source": [
    "# Data Science Tools and Ecosystem"
   ]
  },
  {
   "cell_type": "markdown",
   "id": "57fd50bb-4533-4228-b42f-45a74f64093d",
   "metadata": {},
   "source": [
    "Data Science has emerged as a multidisciplinary field that relies on a wide array of tools and technologies. \n",
    "\n",
    "This notebook introduces and summarizes key tools within the Data Science ecosystem.\n"
   ]
  },
  {
   "cell_type": "markdown",
   "id": "fb732da2-f993-446b-b74d-ae1c07c8fe97",
   "metadata": {},
   "source": [
    "**Objectives:**\n",
    "\n",
    "- List popular languages for Data Science\n",
    "- List some of popular Data Science libraries\n",
    "- List 3 Data Science Tools \n",
    "- Examples of Arithmetic expressions\n",
    "- Examples on how to Multiply and Add number "
   ]
  },
  {
   "cell_type": "markdown",
   "id": "064b48cc-8043-41ad-a0bb-585be6fbf45c",
   "metadata": {},
   "source": [
    "Some of the popular languages that Data Scientists use are: \n",
    "\n",
    "1. Python\n",
    "2. R\n",
    "3. SQL\n",
    "4. Scala\n",
    "5. Java\n",
    "6. C++\n",
    "7. Julia "
   ]
  },
  {
   "cell_type": "markdown",
   "id": "76978df3-5140-43ae-8201-62c64b026732",
   "metadata": {},
   "source": [
    "Some of the commonly used libraries used by Data Scientists include: \n",
    "\n",
    "1. Scientific computings: NumPy and Pandas\n",
    "2. Visualization: Matplotlib and Seaborn \n",
    "3. Machine learning: Scikit-learn (Classification, clustering, regression etc.) \n",
    "4. Deep learning: Keras (Deep learning neural networks), TenserFlow (Production and Deployment), PyTOrch (Classification, regression)\n",
    "\n"
   ]
  },
  {
   "cell_type": "markdown",
   "id": "1b97d349-9358-43f3-9f35-a14de3e93ab3",
   "metadata": {},
   "source": [
    "|      Data Science Tools      | \n",
    "|:----------------------------:|\n",
    "|  Jupyter Notebook            |  \n",
    "|  RStudio                     |  \n",
    "|  Visual Studio Code (VS Code)|  \n",
    "\n"
   ]
  },
  {
   "cell_type": "markdown",
   "id": "15fbdf0d-0764-40c5-8a33-39b81f384fd7",
   "metadata": {},
   "source": [
    "### Below are a few examples of evaluating arithmetic expressions in Python.\n",
    "\n",
    "In Python, arithmetic expressions can be evaluated using standard operators such as addition (+), subtraction (−), multiplication (*), and division (/)\n"
   ]
  },
  {
   "cell_type": "markdown",
   "id": "61f2e7bd-1815-4430-9a44-4ec22eae8e97",
   "metadata": {},
   "source": [
    "This a simple arithmetic expression to mutiply then add integers. \n",
    "\n"
   ]
  },
  {
   "cell_type": "code",
   "execution_count": 7,
   "id": "97eea9ae-43d4-47e7-a738-9199a083549e",
   "metadata": {},
   "outputs": [
    {
     "data": {
      "text/plain": [
       "17"
      ]
     },
     "execution_count": 7,
     "metadata": {},
     "output_type": "execute_result"
    }
   ],
   "source": [
    "(3*4)+5"
   ]
  },
  {
   "cell_type": "markdown",
   "id": "23af5e97-7ce5-4ae6-8e4f-1876cb753989",
   "metadata": {},
   "source": [
    "This will convert 200 minutes to hours by diving by 60. \n"
   ]
  },
  {
   "cell_type": "code",
   "execution_count": 8,
   "id": "693dde41-ec11-41cb-a6fd-14ff9d615101",
   "metadata": {},
   "outputs": [
    {
     "data": {
      "text/plain": [
       "3.3333333333333335"
      ]
     },
     "execution_count": 8,
     "metadata": {},
     "output_type": "execute_result"
    }
   ],
   "source": [
    "200/60"
   ]
  },
  {
   "cell_type": "markdown",
   "id": "652ef04f-96ad-48ce-b2b4-6d40d657f267",
   "metadata": {},
   "source": [
    "## Author\n",
    "Aiza Syamimi \n"
   ]
  }
 ],
 "metadata": {
  "kernelspec": {
   "display_name": "anaconda-2024.02-py310",
   "language": "python",
   "name": "conda-env-anaconda-2024.02-py310-py"
  },
  "language_info": {
   "codemirror_mode": {
    "name": "ipython",
    "version": 3
   },
   "file_extension": ".py",
   "mimetype": "text/x-python",
   "name": "python",
   "nbconvert_exporter": "python",
   "pygments_lexer": "ipython3",
   "version": "3.10.14"
  }
 },
 "nbformat": 4,
 "nbformat_minor": 5
}
